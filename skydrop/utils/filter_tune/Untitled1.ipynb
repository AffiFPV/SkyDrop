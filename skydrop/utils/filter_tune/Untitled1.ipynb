{
 "cells": [
  {
   "cell_type": "code",
   "execution_count": 17,
   "metadata": {},
   "outputs": [
    {
     "ename": "ModuleNotFoundError",
     "evalue": "No module named 'OpenGLContext'",
     "output_type": "error",
     "traceback": [
      "\u001b[0;31m---------------------------------------------------------------------------\u001b[0m",
      "\u001b[0;31mModuleNotFoundError\u001b[0m                       Traceback (most recent call last)",
      "\u001b[0;32m<ipython-input-17-470804cb478e>\u001b[0m in \u001b[0;36m<module>\u001b[0;34m()\u001b[0m\n\u001b[1;32m      3\u001b[0m \u001b[0;34m'''Draw text with GLUT bitmap fonts'''\u001b[0m\u001b[0;34m\u001b[0m\u001b[0;34m\u001b[0m\u001b[0m\n\u001b[1;32m      4\u001b[0m \u001b[0;32mfrom\u001b[0m \u001b[0m__future__\u001b[0m \u001b[0;32mimport\u001b[0m \u001b[0mprint_function\u001b[0m\u001b[0;34m\u001b[0m\u001b[0;34m\u001b[0m\u001b[0m\n\u001b[0;32m----> 5\u001b[0;31m \u001b[0;32mfrom\u001b[0m \u001b[0mOpenGLContext\u001b[0m \u001b[0;32mimport\u001b[0m \u001b[0mtestingcontext\u001b[0m\u001b[0;34m\u001b[0m\u001b[0;34m\u001b[0m\u001b[0m\n\u001b[0m\u001b[1;32m      6\u001b[0m \u001b[0mBaseContext\u001b[0m \u001b[0;34m=\u001b[0m \u001b[0mtestingcontext\u001b[0m\u001b[0;34m.\u001b[0m\u001b[0mgetInteractive\u001b[0m\u001b[0;34m(\u001b[0m\u001b[0;34m)\u001b[0m\u001b[0;34m\u001b[0m\u001b[0;34m\u001b[0m\u001b[0m\n\u001b[1;32m      7\u001b[0m \u001b[0;32mfrom\u001b[0m \u001b[0mOpenGL\u001b[0m\u001b[0;34m.\u001b[0m\u001b[0mGL\u001b[0m \u001b[0;32mimport\u001b[0m \u001b[0;34m*\u001b[0m\u001b[0;34m\u001b[0m\u001b[0;34m\u001b[0m\u001b[0m\n",
      "\u001b[0;31mModuleNotFoundError\u001b[0m: No module named 'OpenGLContext'"
     ]
    }
   ],
   "source": [
    "\n",
    "#! /usr/bin/env python\n",
    "'''Draw text with GLUT bitmap fonts'''\n",
    "from __future__ import print_function\n",
    "from OpenGLContext import testingcontext\n",
    "BaseContext = testingcontext.getInteractive()\n",
    "from OpenGL.GL import *\n",
    "from OpenGL.GLUT import *\n",
    "\n",
    "def drawText( value, x,y,  windowHeight, windowWidth, step = 18 ):\n",
    "    \"\"\"Draw the given text at given 2D position in window\n",
    "    \"\"\"\n",
    "    glMatrixMode(GL_PROJECTION);\n",
    "    # For some reason the GL_PROJECTION_MATRIX is overflowing with a single push!\n",
    "    # glPushMatrix()\n",
    "    matrix = glGetDouble( GL_PROJECTION_MATRIX )\n",
    "    \n",
    "    glLoadIdentity();\n",
    "    glOrtho(0.0, windowHeight or 32, 0.0, windowWidth or 32, -1.0, 1.0)\n",
    "    glMatrixMode(GL_MODELVIEW);\n",
    "    glPushMatrix();\n",
    "    glLoadIdentity();\n",
    "    glRasterPos2i(x, y);\n",
    "    lines = 0\n",
    "##\timport pdb\n",
    "##\tpdb.set_trace()\n",
    "    for character in value:\n",
    "        if character == '\\n':\n",
    "            glRasterPos2i(x, y-(lines*18))\n",
    "        else:\n",
    "            glutBitmapCharacter(GLUT_BITMAP_HELVETICA_18, ord(character));\n",
    "    glPopMatrix();\n",
    "    glMatrixMode(GL_PROJECTION);\n",
    "    # For some reason the GL_PROJECTION_MATRIX is overflowing with a single push!\n",
    "    # glPopMatrix();\n",
    "    glLoadMatrixd( matrix ) # should have un-decorated alias for this...\n",
    "    \n",
    "    glMatrixMode(GL_MODELVIEW);\n",
    "\n",
    "class TestContext( BaseContext ):\n",
    "    initialPosition = (0,0,0) # set initial camera position, tutorial does the re-positioning\n",
    "    def OnInit( self ):\n",
    "        BaseContext.OnInit( self )\n",
    "        print(\"\"\"Should see \"hello world\" in white in the lower-left corner of black screen\"\"\")\n",
    "    def Render( self, mode = 0):\n",
    "        BaseContext.Render( self, mode )\n",
    "        glColor3f( 0,0,1 )\n",
    "        drawText( 'hello world', 10,20, self.viewportDimensions[0],self.viewportDimensions[1])\n",
    "    \n",
    "\n",
    "if __name__ == \"__main__\":\n",
    "    TestContext.ContextMainLoop()\n"
   ]
  },
  {
   "cell_type": "code",
   "execution_count": null,
   "metadata": {},
   "outputs": [],
   "source": []
  }
 ],
 "metadata": {
  "kernelspec": {
   "display_name": "Python 3",
   "language": "python",
   "name": "python3"
  },
  "language_info": {
   "codemirror_mode": {
    "name": "ipython",
    "version": 3
   },
   "file_extension": ".py",
   "mimetype": "text/x-python",
   "name": "python",
   "nbconvert_exporter": "python",
   "pygments_lexer": "ipython3",
   "version": "3.6.7"
  }
 },
 "nbformat": 4,
 "nbformat_minor": 2
}
